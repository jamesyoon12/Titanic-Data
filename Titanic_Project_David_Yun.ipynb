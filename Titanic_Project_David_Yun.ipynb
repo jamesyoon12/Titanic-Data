{
 "cells": [
  {
   "cell_type": "markdown",
   "metadata": {},
   "source": [
    "# Introduction\n",
    "**Investigate a Dataset-Titanic Project**\n",
    "\n",
    "Hello, my name is Tae Hyun Yun. As a part of the Udacity Data Analyst program,\n",
    "I am going to use the Titanic data set provided at [Kaggle](https://www.kaggle.com/c/titanic/data) to answer what could have caused the deaths that happened on that day."
   ]
  },
  {
   "cell_type": "markdown",
   "metadata": {},
   "source": [
    "# What affected their survival rate the most?\n",
    "\n",
    "Like all other scientific studies, a hypothesis for this test seems fitting.\n",
    "My hypothesis is that: **Gender, age, and Pclass will have the largest impact on the people's social standing in that order.**\n",
    "To do this I want to use the pandas module and the numpy module and will load it in code below:"
   ]
  },
  {
   "cell_type": "code",
   "execution_count": 1,
   "metadata": {
    "collapsed": true
   },
   "outputs": [],
   "source": [
    "import pandas as pd\n",
    "import numpy as np\n",
    "import seaborn as sns\n",
    "import matplotlib.pyplot as plt \n",
    "%matplotlib inline  "
   ]
  },
  {
   "cell_type": "markdown",
   "metadata": {},
   "source": [
    "# Data Wrangling\n",
    "\n",
    "Now here, we take the csv data and convert it into a readable data frame (df).\n",
    "We will subset the data into useful sets, dividng survivors and the dead apart.\n"
   ]
  },
  {
   "cell_type": "code",
   "execution_count": 2,
   "metadata": {
    "collapsed": false
   },
   "outputs": [],
   "source": [
    "df = pd.read_csv('train.csv')\n",
    "#lets subset\n",
    "lp=df[df['Survived']==1]\n",
    "dp=df[df['Survived']==0]"
   ]
  },
  {
   "cell_type": "markdown",
   "metadata": {},
   "source": [
    "# Age Distribution\n",
    "\n",
    "I am doing this for the survivors first.\n",
    "Below, When describe function is used for Age, it show error."
   ]
  },
  {
   "cell_type": "code",
   "execution_count": 3,
   "metadata": {
    "collapsed": false
   },
   "outputs": [
    {
     "name": "stderr",
     "output_type": "stream",
     "text": [
      "C:\\Users\\Tae Hyun Yun\\OneDrive\\Documents\\Spring 2017\\dATA ANALYST\\Project 0\\Anaconda3\\lib\\site-packages\\numpy\\lib\\function_base.py:3834: RuntimeWarning: Invalid value encountered in percentile\n",
      "  RuntimeWarning)\n"
     ]
    },
    {
     "data": {
      "text/plain": [
       "count    290.000000\n",
       "mean      28.343690\n",
       "std       14.950952\n",
       "min        0.420000\n",
       "25%             NaN\n",
       "50%             NaN\n",
       "75%             NaN\n",
       "max       80.000000\n",
       "Name: Age, dtype: float64"
      ]
     },
     "execution_count": 3,
     "metadata": {},
     "output_type": "execute_result"
    }
   ],
   "source": [
    "lp.Age.describe()"
   ]
  },
  {
   "cell_type": "markdown",
   "metadata": {},
   "source": [
    "The mean shows 28.343."
   ]
  },
  {
   "cell_type": "markdown",
   "metadata": {},
   "source": [
    "To fix this, I will have to subset again and drop the na values using isfinite function.\n"
   ]
  },
  {
   "cell_type": "code",
   "execution_count": 4,
   "metadata": {
    "collapsed": false
   },
   "outputs": [],
   "source": [
    "agedf=df[np.isfinite(df['Age'])]\n",
    "agelp=agedf[agedf['Survived']==1]\n",
    "agedp=agedf[agedf['Survived']==0]"
   ]
  },
  {
   "cell_type": "code",
   "execution_count": 5,
   "metadata": {
    "collapsed": false
   },
   "outputs": [
    {
     "data": {
      "text/plain": [
       "count    290.000000\n",
       "mean      28.343690\n",
       "std       14.950952\n",
       "min        0.420000\n",
       "25%       19.000000\n",
       "50%       28.000000\n",
       "75%       36.000000\n",
       "max       80.000000\n",
       "Name: Age, dtype: float64"
      ]
     },
     "execution_count": 5,
     "metadata": {},
     "output_type": "execute_result"
    }
   ],
   "source": [
    "agelp.Age.describe()"
   ]
  },
  {
   "cell_type": "code",
   "execution_count": 6,
   "metadata": {
    "collapsed": false
   },
   "outputs": [
    {
     "data": {
      "text/plain": [
       "count    424.000000\n",
       "mean      30.626179\n",
       "std       14.172110\n",
       "min        1.000000\n",
       "25%       21.000000\n",
       "50%       28.000000\n",
       "75%       39.000000\n",
       "max       74.000000\n",
       "Name: Age, dtype: float64"
      ]
     },
     "execution_count": 6,
     "metadata": {},
     "output_type": "execute_result"
    }
   ],
   "source": [
    "agedp.Age.describe()"
   ]
  },
  {
   "cell_type": "markdown",
   "metadata": {},
   "source": [
    "That fixed it!\n",
    "\n",
    "To graph the comparison bar plot for age, I have divided the age by increments of 10 for both ages."
   ]
  },
  {
   "cell_type": "code",
   "execution_count": 7,
   "metadata": {
    "collapsed": false
   },
   "outputs": [],
   "source": [
    "age_under_10=[]\n",
    "age_under_20=[]\n",
    "age_under_30=[]\n",
    "age_under_40=[]\n",
    "age_under_50=[]\n",
    "age_under_60=[]\n",
    "age_over_60=[]\n",
    "for i in agelp.Age:\n",
    "    if i<10:\n",
    "        age_under_10.append(i)\n",
    "    elif i<20:\n",
    "        age_under_20.append(i)\n",
    "    elif i<30:\n",
    "        age_under_30.append(i)\n",
    "    elif i<40:\n",
    "        age_under_40.append(i)\n",
    "    elif i<50:\n",
    "        age_under_50.append(i)\n",
    "    elif i<60:\n",
    "        age_under_60.append(i)\n",
    "    else:\n",
    "        age_over_60.append(i)\n",
    "lnum_10=len(age_under_10)\n",
    "lnum_20=len(age_under_20)\n",
    "lnum_30=len(age_under_30)\n",
    "lnum_40=len(age_under_40)\n",
    "lnum_50=len(age_under_50)\n",
    "lnum_60=len(age_under_60)\n",
    "lnum_over=len(age_over_60)\n",
    "lnumage=[lnum_10,lnum_20,lnum_30,lnum_40,lnum_50,lnum_60,lnum_over]"
   ]
  },
  {
   "cell_type": "code",
   "execution_count": 8,
   "metadata": {
    "collapsed": true
   },
   "outputs": [],
   "source": [
    "dage_under_10=[]\n",
    "dage_under_20=[]\n",
    "dage_under_30=[]\n",
    "dage_under_40=[]\n",
    "dage_under_50=[]\n",
    "dage_under_60=[]\n",
    "dage_over_60=[]\n",
    "for i in agedp.Age:\n",
    "    if i<10:\n",
    "        dage_under_10.append(i)\n",
    "    elif i<20:\n",
    "        dage_under_20.append(i)\n",
    "    elif i<30:\n",
    "        dage_under_30.append(i)\n",
    "    elif i<40:\n",
    "        dage_under_40.append(i)\n",
    "    elif i<50:\n",
    "        dage_under_50.append(i)\n",
    "    elif i<60:\n",
    "        dage_under_60.append(i)\n",
    "    else:\n",
    "        dage_over_60.append(i)\n",
    "dnum_10=len(dage_under_10)\n",
    "dnum_20=len(dage_under_20)\n",
    "dnum_30=len(dage_under_30)\n",
    "dnum_40=len(dage_under_40)\n",
    "dnum_50=len(dage_under_50)\n",
    "dnum_60=len(dage_under_60)\n",
    "dnum_over=len(dage_over_60)\n",
    "dnumage=[dnum_10,dnum_20,dnum_30,dnum_40,dnum_50,dnum_60,dnum_over]"
   ]
  },
  {
   "cell_type": "code",
   "execution_count": 9,
   "metadata": {
    "collapsed": false
   },
   "outputs": [
    {
     "data": {
      "image/png": "[encoded data removed]",
      "text/plain": [
       "<matplotlib.figure.Figure at 0x256550470f0>"
      ]
     },
     "metadata": {},
     "output_type": "display_data"
    }
   ],
   "source": [
    "# data to plot\n",
    "n_groups = 7\n",
    "# create plot\n",
    "fig, ax = plt.subplots()\n",
    "index = np.arange(n_groups)\n",
    "bar_width = 0.35\n",
    "opacity = 0.8\n",
    " \n",
    "rects1 = plt.bar(index, lnumage, bar_width,\n",
    "                 alpha=opacity,\n",
    "                 color='b',\n",
    "                 label='Survivors')\n",
    " \n",
    "rects2 = plt.bar(index + bar_width, dnumage, bar_width,\n",
    "                 alpha=opacity,\n",
    "                 color='g',\n",
    "                 label='Victims')\n",
    " \n",
    "plt.xlabel('Age')\n",
    "plt.ylabel('Count')\n",
    "plt.title('Survivor vs the Victims: Age distribution')\n",
    "plt.xticks(index + bar_width, ('10','20','30','40','50','60','Over 60'))\n",
    "plt.legend()\n",
    "plt.tight_layout()\n",
    "plt.show()"
   ]
  },
  {
   "cell_type": "markdown",
   "metadata": {},
   "source": [
    "The only age range that has a higher survivor count than the deceased is the age under 10 range."
   ]
  },
  {
   "cell_type": "markdown",
   "metadata": {},
   "source": [
    "To show a more representative graph of the distributions, I decided to use percentage distribution to understand which age group was more distinctive for survivors or victims"
   ]
  },
  {
   "cell_type": "code",
   "execution_count": 11,
   "metadata": {
    "collapsed": true
   },
   "outputs": [],
   "source": [
    "age_under_10=[]\n",
    "age_under_20=[]\n",
    "age_under_30=[]\n",
    "age_under_40=[]\n",
    "age_under_50=[]\n",
    "age_under_60=[]\n",
    "age_over_60=[]\n",
    "for i in agelp.Age:\n",
    "    if i<10:\n",
    "        age_under_10.append(i)\n",
    "    elif i<20:\n",
    "        age_under_20.append(i)\n",
    "    elif i<30:\n",
    "        age_under_30.append(i)\n",
    "    elif i<40:\n",
    "        age_under_40.append(i)\n",
    "    elif i<50:\n",
    "        age_under_50.append(i)\n",
    "    elif i<60:\n",
    "        age_under_60.append(i)\n",
    "    else:\n",
    "        age_over_60.append(i)\n",
    "lnum_10=len(age_under_10)\n",
    "lnum_20=len(age_under_20)\n",
    "lnum_30=len(age_under_30)\n",
    "lnum_40=len(age_under_40)\n",
    "lnum_50=len(age_under_50)\n",
    "lnum_60=len(age_under_60)\n",
    "lnum_over=len(age_over_60)\n",
    "ltotal=len(agelp.Age)\n",
    "lnumageper=[lnum_10/ltotal,lnum_20/ltotal,lnum_30/ltotal,lnum_40/ltotal,lnum_50/ltotal,lnum_60/ltotal,lnum_over/ltotal]"
   ]
  },
  {
   "cell_type": "code",
   "execution_count": 12,
   "metadata": {
    "collapsed": true
   },
   "outputs": [],
   "source": [
    "dage_under_10=[]\n",
    "dage_under_20=[]\n",
    "dage_under_30=[]\n",
    "dage_under_40=[]\n",
    "dage_under_50=[]\n",
    "dage_under_60=[]\n",
    "dage_over_60=[]\n",
    "for i in agedp.Age:\n",
    "    if i<10:\n",
    "        dage_under_10.append(i)\n",
    "    elif i<20:\n",
    "        dage_under_20.append(i)\n",
    "    elif i<30:\n",
    "        dage_under_30.append(i)\n",
    "    elif i<40:\n",
    "        dage_under_40.append(i)\n",
    "    elif i<50:\n",
    "        dage_under_50.append(i)\n",
    "    elif i<60:\n",
    "        dage_under_60.append(i)\n",
    "    else:\n",
    "        dage_over_60.append(i)\n",
    "dnum_10=len(dage_under_10)\n",
    "dnum_20=len(dage_under_20)\n",
    "dnum_30=len(dage_under_30)\n",
    "dnum_40=len(dage_under_40)\n",
    "dnum_50=len(dage_under_50)\n",
    "dnum_60=len(dage_under_60)\n",
    "dtotal=len(agedp.Age)\n",
    "dnumageper=[dnum_10/dtotal,dnum_20/dtotal,dnum_30/dtotal,dnum_40/dtotal,dnum_50/dtotal,dnum_60/dtotal,dnum_over/dtotal]"
   ]
  },
  {
   "cell_type": "code",
   "execution_count": 13,
   "metadata": {
    "collapsed": false
   },
   "outputs": [
    {
     "data": {
      "image/png": "[encoded data removed]",
      "text/plain": [
       "<matplotlib.figure.Figure at 0x2565595d390>"
      ]
     },
     "metadata": {},
     "output_type": "display_data"
    }
   ],
   "source": [
    "# data to plot\n",
    "n_groups = 7\n",
    "# create plot\n",
    "fig, ax = plt.subplots()\n",
    "index = np.arange(n_groups)\n",
    "bar_width = 0.35\n",
    "opacity = 0.8\n",
    " \n",
    "rects1 = plt.bar(index, lnumageper, bar_width,\n",
    "                 alpha=opacity,\n",
    "                 color='b',\n",
    "                 label='Survivors')\n",
    " \n",
    "rects2 = plt.bar(index + bar_width, dnumageper, bar_width,\n",
    "                 alpha=opacity,\n",
    "                 color='g',\n",
    "                 label='Victims')\n",
    " \n",
    "plt.xlabel('Age')\n",
    "plt.ylabel('Count Percentage')\n",
    "plt.title('Survivor vs the Victims: Age distribution(Percentage)')\n",
    "plt.xticks(index + bar_width, ('10','20','30','40','50','60','Over 60'))\n",
    "plt.legend()\n",
    "plt.tight_layout()\n",
    "plt.show()"
   ]
  },
  {
   "cell_type": "markdown",
   "metadata": {},
   "source": [
    "This graph shows that a larger percentage of age between 0 to 10 and 50 to 60 showed higher percentage rates than the other age ranges.\n",
    "However, other than the under 10, strictly younger children, the graph shows a very strikingly similar trend. Age was definitely not a strong indicator, other than it being for very young children.\n"
   ]
  },
  {
   "cell_type": "markdown",
   "metadata": {},
   "source": [
    "# Passenger Class \n",
    "**Of Survivors**"
   ]
  },
  {
   "cell_type": "code",
   "execution_count": 14,
   "metadata": {
    "collapsed": false
   },
   "outputs": [
    {
     "data": {
      "text/plain": [
       "count    342.000000\n",
       "mean       1.950292\n",
       "std        0.863321\n",
       "min        1.000000\n",
       "25%        1.000000\n",
       "50%        2.000000\n",
       "75%        3.000000\n",
       "max        3.000000\n",
       "Name: Pclass, dtype: float64"
      ]
     },
     "execution_count": 14,
     "metadata": {},
     "output_type": "execute_result"
    }
   ],
   "source": [
    "lp.Pclass.describe()"
   ]
  },
  {
   "cell_type": "markdown",
   "metadata": {},
   "source": [
    "**Of the Dead**"
   ]
  },
  {
   "cell_type": "code",
   "execution_count": 15,
   "metadata": {
    "collapsed": false
   },
   "outputs": [
    {
     "data": {
      "text/plain": [
       "count    549.000000\n",
       "mean       2.531876\n",
       "std        0.735805\n",
       "min        1.000000\n",
       "25%        2.000000\n",
       "50%        3.000000\n",
       "75%        3.000000\n",
       "max        3.000000\n",
       "Name: Pclass, dtype: float64"
      ]
     },
     "execution_count": 15,
     "metadata": {},
     "output_type": "execute_result"
    }
   ],
   "source": [
    "dp.Pclass.describe()"
   ]
  },
  {
   "cell_type": "markdown",
   "metadata": {},
   "source": [
    "It looks like there are high number of Passenger 3 class number in death but evenly distributed for survivor class."
   ]
  },
  {
   "cell_type": "markdown",
   "metadata": {},
   "source": [
    "# Gender Distribution"
   ]
  },
  {
   "cell_type": "code",
   "execution_count": 16,
   "metadata": {
    "collapsed": false
   },
   "outputs": [
    {
     "data": {
      "text/plain": [
       "count        342\n",
       "unique         2\n",
       "top       female\n",
       "freq         233\n",
       "Name: Sex, dtype: object"
      ]
     },
     "execution_count": 16,
     "metadata": {},
     "output_type": "execute_result"
    }
   ],
   "source": [
    "lp.Sex.describe()"
   ]
  },
  {
   "cell_type": "markdown",
   "metadata": {},
   "source": [
    "233 out of 342 were female an overwhelming difference compared to the male number of 109."
   ]
  },
  {
   "cell_type": "markdown",
   "metadata": {
    "collapsed": false
   },
   "source": [
    "# Prediction machine\n",
    "\n",
    "Based on the statistical description study above, it was noted that Age, Passenger Class, and Sex ratio had a strong correlation with survival rate. To test this and understand the weight of each of these factors, I ran a manual weighting prediction machine below to see which factors actually impacted the survival rate."
   ]
  },
  {
   "cell_type": "code",
   "execution_count": 17,
   "metadata": {
    "collapsed": false
   },
   "outputs": [
    {
     "name": "stdout",
     "output_type": "stream",
     "text": [
      "0.797979797979798\n"
     ]
    }
   ],
   "source": [
    "### prediction function based on rough estimates of weight which is based on the mean and the standard deviations\n",
    "def prediction(i):\n",
    "    score=0\n",
    "    if abs(lp.Age.mean()-df.Age[i]) < abs(dp.Age.mean()-df.Age[i]):\n",
    "        score+=0.1\n",
    "    elif abs(lp.Age.mean()-df.Age[i]) > abs(dp.Age.mean()-df.Age[i]):\n",
    "        score+=-0.1\n",
    "    if abs(lp.Pclass.mean()-df.Pclass[i])<abs(dp.Pclass.mean()-df.Pclass[i]):\n",
    "        score+=0.5\n",
    "    elif abs(lp.Pclass.mean()-df.Pclass[i])>abs(dp.Pclass.mean()-df.Pclass[i]):\n",
    "        score+=-.2\n",
    "    if df.Sex[i]==\"female\":\n",
    "        score+=0.3\n",
    "    elif df.Sex[i]==\"male\":\n",
    "        score+=-0.9\n",
    "    return score\n",
    "def accuracy(i,score):\n",
    "    if score>0 and df.Survived[i]==1:\n",
    "        boo=1\n",
    "    elif score<0 and df.Survived[i]==0:\n",
    "        boo=1\n",
    "    else:\n",
    "        boo=0\n",
    "    return boo\n",
    "\n",
    "percentage=[]\n",
    "for i in df.PassengerId:\n",
    "    percentage.append(accuracy(i-1,prediction(i-1)))\n",
    "ans=sum(percentage)/len(percentage)\n",
    "print(ans)\n"
   ]
  },
  {
   "cell_type": "markdown",
   "metadata": {},
   "source": [
    "# Revised Prediction Machine\n",
    "\n",
    "I switched up the conditions to improve the prediction rate. They were based on mean and mode of the statistical study result"
   ]
  },
  {
   "cell_type": "code",
   "execution_count": 18,
   "metadata": {
    "collapsed": false
   },
   "outputs": [
    {
     "name": "stdout",
     "output_type": "stream",
     "text": [
      "0.8002244668911336\n"
     ]
    }
   ],
   "source": [
    "### prediction function based on rough estimates of weight which is based on the mean and the standard deviations\n",
    "def prediction(i):\n",
    "    score=0\n",
    "    if df.Age[i]<10:\n",
    "        score+=0.4\n",
    "    if df.Pclass[i]==1:\n",
    "        score+=.3\n",
    "    elif df.Pclass[i]==3:\n",
    "        score+=-.3\n",
    "    if df.Sex[i]==\"female\":\n",
    "        score+=0.3\n",
    "    elif df.Sex[i]==\"male\":\n",
    "        score+=-0.3\n",
    "    return score\n",
    "def accuracy(i,score):\n",
    "    if score>0 and df.Survived[i]==1:\n",
    "        boo=1\n",
    "    elif score<=0 and df.Survived[i]==0:\n",
    "        boo=1\n",
    "    else:\n",
    "        boo=0\n",
    "    return boo\n",
    "\n",
    "percentage=[]\n",
    "for i in df.PassengerId:\n",
    "    percentage.append(accuracy(i-1,prediction(i-1)))\n",
    "bro=sum(percentage)/len(percentage)\n",
    "print(bro)"
   ]
  },
  {
   "cell_type": "markdown",
   "metadata": {},
   "source": [
    "The gender of a given person seems to play a bigger role in determining a factor of survival than passenger class or age in that respective order of importance."
   ]
  },
  {
   "cell_type": "markdown",
   "metadata": {},
   "source": [
    "# Conclusions\n",
    "\n",
    "From this we can learn, also with the background of the Titanic Story, that Women, Children, and 1st Class passengers had priorities to the boat with differing levels of priority. We can also learn that data analytics can speculate and understand from just data which is very powerful in any context. \n",
    "\n",
    "By graphing the percentage distribution we could see that for age, only age under 10 could be understood as a factor that influenced survivor rate. By doing similar comparisons of subsetting and data visualization, my analysis can be strengthened for other factors as well.\n"
   ]
  }
 ],
 "metadata": {
  "anaconda-cloud": {},
  "kernelspec": {
   "display_name": "Python [conda root]",
   "language": "python",
   "name": "conda-root-py"
  },
  "language_info": {
   "codemirror_mode": {
    "name": "ipython",
    "version": 3
   },
   "file_extension": ".py",
   "mimetype": "text/x-python",
   "name": "python",
   "nbconvert_exporter": "python",
   "pygments_lexer": "ipython3",
   "version": "3.5.2"
  }
 },
 "nbformat": 4,
 "nbformat_minor": 1
}
