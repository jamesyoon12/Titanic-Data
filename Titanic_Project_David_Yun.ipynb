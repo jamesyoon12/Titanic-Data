{
 "cells": [
  {
   "cell_type": "markdown",
   "metadata": {},
   "source": [
    "# Introduction\n",
    "**Investigate a Dataset-Titanic Project**\n",
    "\n",
    "Hello, my name is Tae Hyun Yun. As a part of the Udacity Data Analyst program,\n",
    "I am going to use the Titanic data set provided at [Kaggle](https://www.kaggle.com/c/titanic/data) to answer what could have caused the deaths that happened on that day."
   ]
  },
  {
   "cell_type": "markdown",
   "metadata": {},
   "source": [
    "# What affected their survival rate the most?\n",
    "\n",
    "Like all other scientific studies, a hypothesis for this test seems fitting.\n",
    "My hypothesis is that: **Gender, age, and Pclass will have the largest impact on the people's social standing in that order.**\n",
    "To do this I want to use the pandas module and the numpy module and will load it in code below:"
   ]
  },
  {
   "cell_type": "code",
   "execution_count": 1,
   "metadata": {
    "collapsed": true
   },
   "outputs": [],
   "source": [
    "import pandas as pd\n",
    "import numpy as np\n",
    "import seaborn as sns\n",
    "import matplotlib.pyplot as plt \n",
    "import scipy\n",
    "%matplotlib inline  "
   ]
  },
  {
   "cell_type": "markdown",
   "metadata": {},
   "source": [
    "# Subset\n"
   ]
  },
  {
   "cell_type": "code",
   "execution_count": 101,
   "metadata": {
    "collapsed": false
   },
   "outputs": [],
   "source": [
    "df = pd.read_csv('train.csv')\n",
    "#lets subset\n",
    "lp=df[df['Survived']==1]\n",
    "dp=df[df['Survived']==0]\n",
    "agelp=lp[np.isfinite(lp['Age'])]"
   ]
  },
  {
   "cell_type": "markdown",
   "metadata": {},
   "source": [
    "# Age Distribution of Survivors"
   ]
  },
  {
   "cell_type": "code",
   "execution_count": 94,
   "metadata": {
    "collapsed": false
   },
   "outputs": [
    {
     "name": "stderr",
     "output_type": "stream",
     "text": [
      "C:\\Users\\Tae Hyun Yun\\OneDrive\\Documents\\Spring 2017\\dATA ANALYST\\Project 0\\Anaconda3\\lib\\site-packages\\numpy\\lib\\function_base.py:3834: RuntimeWarning: Invalid value encountered in percentile\n",
      "  RuntimeWarning)\n"
     ]
    },
    {
     "data": {
      "text/plain": [
       "count    290.000000\n",
       "mean      28.343690\n",
       "std       14.950952\n",
       "min        0.420000\n",
       "25%             NaN\n",
       "50%             NaN\n",
       "75%             NaN\n",
       "max       80.000000\n",
       "Name: Age, dtype: float64"
      ]
     },
     "execution_count": 94,
     "metadata": {},
     "output_type": "execute_result"
    }
   ],
   "source": [
    "lp.Age.describe()"
   ]
  },
  {
   "cell_type": "markdown",
   "metadata": {},
   "source": [
    "The mean shows 28.343."
   ]
  },
  {
   "cell_type": "markdown",
   "metadata": {},
   "source": [
    "# Age Distribution of the Dead"
   ]
  },
  {
   "cell_type": "code",
   "execution_count": 95,
   "metadata": {
    "collapsed": false
   },
   "outputs": [
    {
     "name": "stderr",
     "output_type": "stream",
     "text": [
      "C:\\Users\\Tae Hyun Yun\\OneDrive\\Documents\\Spring 2017\\dATA ANALYST\\Project 0\\Anaconda3\\lib\\site-packages\\numpy\\lib\\function_base.py:3834: RuntimeWarning: Invalid value encountered in percentile\n",
      "  RuntimeWarning)\n"
     ]
    },
    {
     "data": {
      "text/plain": [
       "count    424.000000\n",
       "mean      30.626179\n",
       "std       14.172110\n",
       "min        1.000000\n",
       "25%             NaN\n",
       "50%             NaN\n",
       "75%             NaN\n",
       "max       74.000000\n",
       "Name: Age, dtype: float64"
      ]
     },
     "execution_count": 95,
     "metadata": {},
     "output_type": "execute_result"
    }
   ],
   "source": [
    "dp.Age.describe()"
   ]
  },
  {
   "cell_type": "markdown",
   "metadata": {},
   "source": [
    "The mean shows 30, higher than the survivors."
   ]
  },
  {
   "cell_type": "markdown",
   "metadata": {},
   "source": [
    "# Passenger Class \n",
    "**Of Survivors**"
   ]
  },
  {
   "cell_type": "code",
   "execution_count": 96,
   "metadata": {
    "collapsed": false
   },
   "outputs": [
    {
     "data": {
      "text/plain": [
       "count    342.000000\n",
       "mean       1.950292\n",
       "std        0.863321\n",
       "min        1.000000\n",
       "25%        1.000000\n",
       "50%        2.000000\n",
       "75%        3.000000\n",
       "max        3.000000\n",
       "Name: Pclass, dtype: float64"
      ]
     },
     "execution_count": 96,
     "metadata": {},
     "output_type": "execute_result"
    }
   ],
   "source": [
    "lp.Pclass.describe()"
   ]
  },
  {
   "cell_type": "markdown",
   "metadata": {},
   "source": [
    "**Of the Dead**"
   ]
  },
  {
   "cell_type": "code",
   "execution_count": 97,
   "metadata": {
    "collapsed": false
   },
   "outputs": [
    {
     "data": {
      "text/plain": [
       "count    549.000000\n",
       "mean       2.531876\n",
       "std        0.735805\n",
       "min        1.000000\n",
       "25%        2.000000\n",
       "50%        3.000000\n",
       "75%        3.000000\n",
       "max        3.000000\n",
       "Name: Pclass, dtype: float64"
      ]
     },
     "execution_count": 97,
     "metadata": {},
     "output_type": "execute_result"
    }
   ],
   "source": [
    "dp.Pclass.describe()"
   ]
  },
  {
   "cell_type": "markdown",
   "metadata": {},
   "source": [
    "It looks like there are high number of Passenger 3 class number in death but evenly distributed for survivor class."
   ]
  },
  {
   "cell_type": "markdown",
   "metadata": {},
   "source": [
    "# Gender Distribution"
   ]
  },
  {
   "cell_type": "code",
   "execution_count": 99,
   "metadata": {
    "collapsed": false
   },
   "outputs": [
    {
     "data": {
      "text/plain": [
       "count        342\n",
       "unique         2\n",
       "top       female\n",
       "freq         233\n",
       "Name: Sex, dtype: object"
      ]
     },
     "execution_count": 99,
     "metadata": {},
     "output_type": "execute_result"
    }
   ],
   "source": [
    "lp.Sex.describe()"
   ]
  },
  {
   "cell_type": "markdown",
   "metadata": {},
   "source": [
    "233 out of 342 were female an overwhelming difference compared to the male number of 109."
   ]
  },
  {
   "cell_type": "markdown",
   "metadata": {
    "collapsed": false
   },
   "source": [
    "# Prediction machine\n",
    "\n",
    "Based on the statistical description study above, it was noted that Age, Passenger Class, and Sex ratio had a strong correlation with survival rate. To test this and understand the weight of each of these factors, I ran a manual weighting prediction machine below to see which factors actually impacted the survival rate."
   ]
  },
  {
   "cell_type": "code",
   "execution_count": 188,
   "metadata": {
    "collapsed": false
   },
   "outputs": [
    {
     "name": "stdout",
     "output_type": "stream",
     "text": [
      "0.797979797979798\n"
     ]
    }
   ],
   "source": [
    "### prediction function based on rough estimates of weight which is based on the mean and the standard deviations\n",
    "def prediction(i):\n",
    "    score=0\n",
    "    if abs(lp.Age.mean()-df.Age[i]) < abs(dp.Age.mean()-df.Age[i]):\n",
    "        score+=0\n",
    "    elif abs(lp.Age.mean()-df.Age[i]) > abs(dp.Age.mean()-df.Age[i]):\n",
    "        score+=-0.1\n",
    "    if abs(lp.Pclass.mean()-df.Pclass[i])<abs(dp.Pclass.mean()-df.Pclass[i]):\n",
    "        score+=0.5\n",
    "    elif abs(lp.Pclass.mean()-df.Pclass[i])>abs(dp.Pclass.mean()-df.Pclass[i]):\n",
    "        score+=-.2\n",
    "    if df.Sex[i]==\"female\":\n",
    "        score+=0.3\n",
    "    elif df.Sex[i]==\"male\":\n",
    "        score+=-0.9\n",
    "    return score\n",
    "def accuracy(i,score):\n",
    "    if score>0 and df.Survived[i]==1:\n",
    "        boo=1\n",
    "    elif score<0 and df.Survived[i]==0:\n",
    "        boo=1\n",
    "    else:\n",
    "        boo=0\n",
    "    return boo\n",
    "\n",
    "percentage=[]\n",
    "for i in df.PassengerId:\n",
    "    percentage.append(accuracy(i-1,prediction(i-1)))\n",
    "ans=sum(percentage)/len(percentage)\n",
    "print(ans)\n"
   ]
  },
  {
   "cell_type": "markdown",
   "metadata": {},
   "source": [
    "# Revised Prediction Machine\n",
    "\n",
    "I switched up the conditions to improve the prediction rate. They were based on mean and mode of the statistical study result"
   ]
  },
  {
   "cell_type": "code",
   "execution_count": 220,
   "metadata": {
    "collapsed": false
   },
   "outputs": [
    {
     "name": "stdout",
     "output_type": "stream",
     "text": [
      "0.8024691358024691\n"
     ]
    }
   ],
   "source": [
    "### prediction function based on rough estimates of weight which is based on the mean and the standard deviations\n",
    "def prediction(i):\n",
    "    score=0\n",
    "    if df.Age[i]<28.38:\n",
    "        score+=0.15\n",
    "    elif df.Age[i]>=28.38:\n",
    "        score+=-0.15\n",
    "    if df.Pclass[i]==1:\n",
    "        score+=.2     \n",
    "    elif df.Pclass[i]==3:\n",
    "        score+=-.2\n",
    "    if df.Sex[i]==\"female\":\n",
    "        score+=0.3\n",
    "    elif df.Sex[i]==\"male\":\n",
    "        score+=-0.2\n",
    "    return score\n",
    "def accuracy(i,score):\n",
    "    if score>0 and df.Survived[i]==1:\n",
    "        boo=1\n",
    "    elif score<=0 and df.Survived[i]==0:\n",
    "        boo=1\n",
    "    else:\n",
    "        boo=0\n",
    "    return boo\n",
    "\n",
    "percentage=[]\n",
    "for i in df.PassengerId:\n",
    "    percentage.append(accuracy(i-1,prediction(i-1)))\n",
    "bro=sum(percentage)/len(percentage)\n",
    "print(bro)"
   ]
  },
  {
   "cell_type": "markdown",
   "metadata": {},
   "source": [
    "The gender of a given person seems to play a bigger role in determining a factor of survival than passenger class or age in that respective order of importance."
   ]
  },
  {
   "cell_type": "markdown",
   "metadata": {},
   "source": [
    "# Conclusions\n",
    "\n",
    "From this we can learn, also with the background of the Titanic Story, that Women, Children, and 1st Class passengers had priorities to the boat with differing levels of priority. We can also learn that data analytics can speculate and understand from just data which is very powerful in any context. "
   ]
  }
 ],
 "metadata": {
  "anaconda-cloud": {},
  "kernelspec": {
   "display_name": "Python [conda root]",
   "language": "python",
   "name": "conda-root-py"
  },
  "language_info": {
   "codemirror_mode": {
    "name": "ipython",
    "version": 3
   },
   "file_extension": ".py",
   "mimetype": "text/x-python",
   "name": "python",
   "nbconvert_exporter": "python",
   "pygments_lexer": "ipython3",
   "version": "3.5.2"
  }
 },
 "nbformat": 4,
 "nbformat_minor": 1
}
